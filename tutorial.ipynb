{
  "cells": [
    {
      "cell_type": "markdown",
      "metadata": {
        "id": "QYbNkQwK0fSB"
      },
      "source": [
        "# **Quantum Exact String Matching (ESM)**\n",
        "\n",
        "In this tutorial, our focus lies on a Quantum Exact String Matching algorithm implementation. Its essence lies in identifying an occurrence of a specified pattern $x$, typically denoted by length $m$, within a text $y$ of length $n$ $\\geq$ $m$, where both sequences are composed of characters taken from an alphabet $\\Sigma$ of size $\\sigma$. Our article presents an initial practical implementation of a quantum circuit tailored to address the exact string matching problem, particularly focusing on binary strings.\n",
        "\n",
        "For instance, consider the pattern `101`. Within the text `11010100`, the pattern exhibits two occurrences.\n",
        "\n",
        "A classical **naïve** approach exhibits a worst-case time complexity of $\\mathcal{O}(mn)$, contrasting with the capability of quantum computation to achieve a $\\tilde{O}(\\sqrt{n})$ complexity using **Grover's search** - which searches a desired item within an unstructured dataset of size $n$, realizing a quadratic speed-up compared to classical methods.\n",
        "\n",
        "This tutorial uses the **Qiskit** open-source toolkit developed by **IBM** and based on Python language. While current real-world hardware often struggles to produce valid results due to decoherence and quantum errors, particularly when dealing with lengthy texts, this study presents experimental results from a circuit simulation on classical hardware, validating the proposed implementation's efficacy."
      ]
    },
    {
      "cell_type": "code",
      "execution_count": null,
      "metadata": {
        "id": "8BPayXur0fSD"
      },
      "outputs": [],
      "source": [
        "# Practical Implementation of a Quantum String Matching Algorithm\n",
        "# S. Faro, F.P. Marino, and A. Scardace\n",
        "# QUASAR 2024, ACM HPDC\n",
        "\n",
        "%%capture\n",
        "%pip install ibm-cloud-sdk-core==3.18.2\n",
        "%pip install qiskit==0.45.1\n",
        "%pip install qiskit-aer==0.13.1\n",
        "%pip install pylatexenc==2.10"
      ]
    },
    {
      "cell_type": "code",
      "execution_count": 2,
      "metadata": {
        "id": "t8fI4B8P0fSE"
      },
      "outputs": [],
      "source": [
        "from numpy import log2, sqrt\n",
        "from numpy import pi\n",
        "\n",
        "from qiskit.tools.visualization import plot_histogram\n",
        "from qiskit.circuit.gate import Gate\n",
        "from qiskit import QuantumCircuit, QuantumRegister, ClassicalRegister\n",
        "from qiskit import Aer\n",
        "from qiskit import transpile"
      ]
    },
    {
      "cell_type": "markdown",
      "metadata": {
        "id": "IknGJIzF7LQD"
      },
      "source": [
        "## Utility Functions\n",
        "\n",
        "A first utility function is useful to execute a quantum circuit on the IBM simulator and retrieve the counts of measurement outcomes. It takes two parameters: the quantum circuit to be executed, and the number of repetitions of the circuit to run. After the circuit executions are completed, the function retrieves the result of the job and returns a dictionary containing the binary representation of measurement outcomes and their respective counts. Overall, this function helps us avoid duplication of code."
      ]
    },
    {
      "cell_type": "code",
      "execution_count": 3,
      "metadata": {
        "id": "wfM0czb80fSE"
      },
      "outputs": [],
      "source": [
        "def run(circuit: QuantumCircuit, shots: int) -> dict:\n",
        "    simulator = Aer.get_backend('aer_simulator')\n",
        "    compiled_circuit = transpile(circuit, simulator)\n",
        "    job = simulator.run(compiled_circuit, shots=shots)\n",
        "    result = job.result()\n",
        "    return result.get_counts(compiled_circuit)"
      ]
    },
    {
      "cell_type": "markdown",
      "metadata": {
        "id": "LsyrbYM7_EKI"
      },
      "source": [
        "This function initializes a quantum register based on the given binary string, which represents its initial state. The function applies an $X$ gate to the $i$-th qubit of the quantum register if `bin_str[i] = 1`. Overall, this function enables the convenient initialization of a quantum register, allowing for the preparation of specific quantum states for further quantum computation."
      ]
    },
    {
      "cell_type": "code",
      "execution_count": 4,
      "metadata": {
        "id": "GeVUxD1WLOQX"
      },
      "outputs": [],
      "source": [
        "def init_register(bin_str: str) -> QuantumCircuit:\n",
        "    data_qr = QuantumRegister(len(bin_str), 'data')\n",
        "    qc = QuantumCircuit(data_qr)\n",
        "\n",
        "    for i, bit in enumerate(bin_str):\n",
        "        if bit == '1':\n",
        "            qc.x(data_qr[i])\n",
        "\n",
        "    return qc"
      ]
    },
    {
      "cell_type": "markdown",
      "metadata": {
        "id": "dNPgZXP8BIYk"
      },
      "source": [
        "Let's try to build the circuit for a $4$-qubit register."
      ]
    },
    {
      "cell_type": "code",
      "execution_count": 5,
      "metadata": {
        "colab": {
          "base_uri": "https://localhost:8080/",
          "height": 156
        },
        "id": "Ki85-L46LQ0u",
        "outputId": "272260de-c08f-4a10-dfd4-669626146111"
      },
      "outputs": [
        {
          "data": {
            "text/html": [
              "<pre style=\"word-wrap: normal;white-space: pre;background: #fff0;line-height: 1.1;font-family: &quot;Courier New&quot;,Courier,monospace\">        ┌───┐\n",
              "data_0: ┤ X ├\n",
              "        └───┘\n",
              "data_1: ─────\n",
              "             \n",
              "data_2: ─────\n",
              "        ┌───┐\n",
              "data_3: ┤ X ├\n",
              "        └───┘</pre>"
            ],
            "text/plain": [
              "        ┌───┐\n",
              "data_0: ┤ X ├\n",
              "        └───┘\n",
              "data_1: ─────\n",
              "             \n",
              "data_2: ─────\n",
              "        ┌───┐\n",
              "data_3: ┤ X ├\n",
              "        └───┘"
            ]
          },
          "execution_count": 5,
          "metadata": {},
          "output_type": "execute_result"
        }
      ],
      "source": [
        "classical_value = '1001'\n",
        "init_register(classical_value).draw(fold=255)"
      ]
    },
    {
      "cell_type": "markdown",
      "metadata": {
        "id": "qLr2CiPWECH5"
      },
      "source": [
        "## The Parameterized Cyclic Rotation Operator\n",
        "\n",
        "In this section, we present the implementation of the quantum cyclic rotation operator, as described by **Pavone** and **Viola**. The circuit will then be integrated by a parameter that will allow the amplitude of the rotation to be applied to the quantum register to be arbitrarily defined. Furthermore, the operator is implemented to provide rotations **towards the left**.\n",
        "\n",
        "This function implements a procedure that, using a series of SWAP gates, cyclically shifts a quantum register of size $n$ by $s = 2^k$ positions to the left. The depth of the final quantum circuit does not exceed the value $\\log(n)$. As a result of this rotation, the qubit at position $(i+s)\\bmod{n}$ of the register is moved to position $i$, where $0\\leq i < n$."
      ]
    },
    {
      "cell_type": "code",
      "execution_count": 6,
      "metadata": {
        "id": "5sJR-fCM0fSE"
      },
      "outputs": [],
      "source": [
        "def rot(n: int, s: int) -> QuantumCircuit:\n",
        "    y_qr = QuantumRegister(n, 'y')\n",
        "    qc = QuantumCircuit(y_qr, name='ROT_' + str(s))\n",
        "\n",
        "    for i in range(1, (int(log2(n)) - int(log2(s)) + 2)):\n",
        "        for j in range(int(n / (s * (2**i)))):\n",
        "            for q in range(j * s * (2**i), s * (j*2 ** i+1)):\n",
        "                qc.swap(n - 1 - (q+s), n - 1 - (q+2 ** (i-1) * s + s))\n",
        "\n",
        "    return qc"
      ]
    },
    {
      "cell_type": "markdown",
      "metadata": {
        "id": "tIXKwG16FAUr"
      },
      "source": [
        "Let's try to build the circuit for an $8$-qubit register and apply a rotation of 2 positions."
      ]
    },
    {
      "cell_type": "code",
      "execution_count": 7,
      "metadata": {
        "colab": {
          "base_uri": "https://localhost:8080/",
          "height": 279
        },
        "id": "Sf-2uhn02WWj",
        "outputId": "043e164a-1192-4315-a389-32a7dfc18ece"
      },
      "outputs": [
        {
          "data": {
            "text/html": [
              "<pre style=\"word-wrap: normal;white-space: pre;background: #fff0;line-height: 1.1;font-family: &quot;Courier New&quot;,Courier,monospace\">                       \n",
              "y_0: ──────────X─────X─\n",
              "               │     │ \n",
              "y_1: ───────X──┼──X──┼─\n",
              "            │  │  │  │ \n",
              "y_2: ────X──┼──┼──┼──┼─\n",
              "         │  │  │  │  │ \n",
              "y_3: ─X──┼──┼──┼──┼──┼─\n",
              "      │  │  │  │  │  │ \n",
              "y_4: ─┼──X──┼──┼──┼──X─\n",
              "      │     │  │  │    \n",
              "y_5: ─X─────┼──┼──X────\n",
              "            │  │       \n",
              "y_6: ───────┼──X───────\n",
              "            │          \n",
              "y_7: ───────X──────────\n",
              "                       </pre>"
            ],
            "text/plain": [
              "                       \n",
              "y_0: ──────────X─────X─\n",
              "               │     │ \n",
              "y_1: ───────X──┼──X──┼─\n",
              "            │  │  │  │ \n",
              "y_2: ────X──┼──┼──┼──┼─\n",
              "         │  │  │  │  │ \n",
              "y_3: ─X──┼──┼──┼──┼──┼─\n",
              "      │  │  │  │  │  │ \n",
              "y_4: ─┼──X──┼──┼──┼──X─\n",
              "      │     │  │  │    \n",
              "y_5: ─X─────┼──┼──X────\n",
              "            │  │       \n",
              "y_6: ───────┼──X───────\n",
              "            │          \n",
              "y_7: ───────X──────────\n",
              "                       "
            ]
          },
          "execution_count": 7,
          "metadata": {},
          "output_type": "execute_result"
        }
      ],
      "source": [
        "num_qubits = 8\n",
        "shift_value = 2\n",
        "rot(num_qubits, shift_value).draw(fold=255)"
      ]
    },
    {
      "cell_type": "markdown",
      "metadata": {
        "id": "w3QW32AjGMtx"
      },
      "source": [
        "Subsequently, it is necessary to create a function that allows to transform the rotation operator into a quantum gate. It enhances the versatility and modularity of quantum circuit design for the next quantum algorithm implementations."
      ]
    },
    {
      "cell_type": "code",
      "execution_count": 8,
      "metadata": {
        "id": "T9s2doo-bKG0"
      },
      "outputs": [],
      "source": [
        "def rot_gate(n: int, s: int) -> Gate:\n",
        "    rot_circuit = rot(n, s)\n",
        "    return rot_circuit.to_gate(label='ROT_' + str(s))"
      ]
    },
    {
      "cell_type": "markdown",
      "metadata": {
        "id": "kZ52PTgrJ3tO"
      },
      "source": [
        "The following function creates a parameterized version of the rotation operator. This circuit involves the use of a register $|j\\rangle$ of $log(n)$ qubits, where $n$ is the size of the quantum register $|y\\rangle$ on which to apply the rotation. The register $|j\\rangle$ will contain the binary representation of the amplitude $s$ of the rotation to be applied, with $0 \\leq s < n$. For any given value of $i$ such that $0 \\leq i < \\log(n)$, the application of the rotation operator $ROT$_${2^i}$ to register $|y\\rangle$ is controlled by the qubit $|j_i\\rangle$."
      ]
    },
    {
      "cell_type": "code",
      "execution_count": 9,
      "metadata": {
        "id": "yoL5g_T96oPI"
      },
      "outputs": [],
      "source": [
        "def parameterized_rot(n: int) -> QuantumCircuit:\n",
        "    j_qr = QuantumRegister(int(log2(n)), 'j')\n",
        "    y_qr = QuantumRegister(n, 'y')\n",
        "    qc = QuantumCircuit(j_qr, y_qr)\n",
        "\n",
        "    for i in range(int(log2(n))):\n",
        "        crot = rot_gate(n, 2**i).control(1)\n",
        "        qc = qc.compose(crot, [j_qr[i]] + y_qr[:])\n",
        "\n",
        "    return qc"
      ]
    },
    {
      "cell_type": "markdown",
      "metadata": {
        "id": "GkabsTSQKbEF"
      },
      "source": [
        "Below, we show the quantum circuit that is generated by the parameterized rotation operator acting on an $8$-qubit register."
      ]
    },
    {
      "cell_type": "code",
      "execution_count": 10,
      "metadata": {
        "colab": {
          "base_uri": "https://localhost:8080/",
          "height": 371
        },
        "id": "l4bdhRtm7EU0",
        "outputId": "4d21f793-4076-4d8d-8ebd-7781a42193ca"
      },
      "outputs": [
        {
          "data": {
            "text/html": [
              "<pre style=\"word-wrap: normal;white-space: pre;background: #fff0;line-height: 1.1;font-family: &quot;Courier New&quot;,Courier,monospace\">                                   \n",
              "j_0: ────■─────────────────────────\n",
              "         │                         \n",
              "j_1: ────┼─────────■───────────────\n",
              "         │         │               \n",
              "j_2: ────┼─────────┼─────────■─────\n",
              "     ┌───┴────┐┌───┴────┐┌───┴────┐\n",
              "y_0: ┤0       ├┤0       ├┤0       ├\n",
              "     │        ││        ││        │\n",
              "y_1: ┤1       ├┤1       ├┤1       ├\n",
              "     │        ││        ││        │\n",
              "y_2: ┤2       ├┤2       ├┤2       ├\n",
              "     │        ││        ││        │\n",
              "y_3: ┤3       ├┤3       ├┤3       ├\n",
              "     │  ROT_1 ││  ROT_2 ││  ROT_4 │\n",
              "y_4: ┤4       ├┤4       ├┤4       ├\n",
              "     │        ││        ││        │\n",
              "y_5: ┤5       ├┤5       ├┤5       ├\n",
              "     │        ││        ││        │\n",
              "y_6: ┤6       ├┤6       ├┤6       ├\n",
              "     │        ││        ││        │\n",
              "y_7: ┤7       ├┤7       ├┤7       ├\n",
              "     └────────┘└────────┘└────────┘</pre>"
            ],
            "text/plain": [
              "                                   \n",
              "j_0: ────■─────────────────────────\n",
              "         │                         \n",
              "j_1: ────┼─────────■───────────────\n",
              "         │         │               \n",
              "j_2: ────┼─────────┼─────────■─────\n",
              "     ┌───┴────┐┌───┴────┐┌───┴────┐\n",
              "y_0: ┤0       ├┤0       ├┤0       ├\n",
              "     │        ││        ││        │\n",
              "y_1: ┤1       ├┤1       ├┤1       ├\n",
              "     │        ││        ││        │\n",
              "y_2: ┤2       ├┤2       ├┤2       ├\n",
              "     │        ││        ││        │\n",
              "y_3: ┤3       ├┤3       ├┤3       ├\n",
              "     │  ROT_1 ││  ROT_2 ││  ROT_4 │\n",
              "y_4: ┤4       ├┤4       ├┤4       ├\n",
              "     │        ││        ││        │\n",
              "y_5: ┤5       ├┤5       ├┤5       ├\n",
              "     │        ││        ││        │\n",
              "y_6: ┤6       ├┤6       ├┤6       ├\n",
              "     │        ││        ││        │\n",
              "y_7: ┤7       ├┤7       ├┤7       ├\n",
              "     └────────┘└────────┘└────────┘"
            ]
          },
          "execution_count": 10,
          "metadata": {},
          "output_type": "execute_result"
        }
      ],
      "source": [
        "num_qubits = 8\n",
        "parameterized_rot(num_qubits).draw(fold=255)"
      ]
    },
    {
      "cell_type": "markdown",
      "metadata": {
        "id": "69qoC0bnrQB4"
      },
      "source": [
        "It is now possible to compile the circuit operating in superposition, obtaining the $8$ possible configurations of the $|j\\rangle$ register. At the time of measurement, only one of them will be observed. However, running the circuit $100$ times, highlights how all possible configurations are present as a result, each with an equal probability of being observed."
      ]
    },
    {
      "cell_type": "code",
      "execution_count": 11,
      "metadata": {
        "colab": {
          "base_uri": "https://localhost:8080/",
          "height": 553
        },
        "id": "De-GwkovpE49",
        "outputId": "89952d42-097e-4dad-d1ec-2235010cd0b7"
      },
      "outputs": [
        {
          "data": {
            "image/png": "[encoded data removed]",
            "text/plain": [
              "<Figure size 700x500 with 1 Axes>"
            ]
          },
          "execution_count": 11,
          "metadata": {},
          "output_type": "execute_result"
        }
      ],
      "source": [
        "text = '10110001'\n",
        "text_length = len(text)\n",
        "\n",
        "shift_qr = QuantumRegister(int(log2(text_length)), 'shift')\n",
        "text_qr = QuantumRegister(text_length, 'text')\n",
        "output_cr = ClassicalRegister(text_length, 'output_classic')\n",
        "circ = QuantumCircuit(shift_qr, text_qr, output_cr)\n",
        "\n",
        "circ.h(shift_qr)\n",
        "circ.append(init_register(text), text_qr[:])\n",
        "circ.append(parameterized_rot(text_length), shift_qr[:] + text_qr[:])\n",
        "circ.measure(text_qr, output_cr)\n",
        "\n",
        "counts = run(circ, 100)\n",
        "plot_histogram(counts, title='Rotate ' + text + ' Leftward in Superposition')"
      ]
    },
    {
      "cell_type": "markdown",
      "metadata": {
        "id": "vC11ZJhR7aEn"
      },
      "source": [
        "## The Match Operator\n",
        "\n",
        "The Match operator allows comparison between two binary strings of equal length $m$. The comparison is performed to verify that the two strings are identical by altering the output qubit to $|1\\rangle$ only if $x=y$. This comparison is carried out through $m$ CNOT gates running in parallel where $|x_i\\rangle$ is used as control and $|y_i\\rangle$ is used as the target. Subsequently, the qubits of the $|y\\rangle$ register are negated. At this point, we will have $|y_i\\rangle = |1\\rangle$ if and only if $x_i=y_i$. Simply apply a multiple CNOT to verify that the register $|y\\rangle$ is equal to $|1\\rangle^m$. The circuit is completed by uncompute operations that restore the original values of $|x\\rangle$ and $|y\\rangle$."
      ]
    },
    {
      "cell_type": "code",
      "execution_count": 12,
      "metadata": {
        "id": "tnkBXcHD7avc"
      },
      "outputs": [],
      "source": [
        "def match(m: int) -> QuantumCircuit:\n",
        "    x_qr = QuantumRegister(m, 'x')\n",
        "    y_qr = QuantumRegister(m, 'y')\n",
        "    out_qr = QuantumRegister(1, 'out')\n",
        "    qc = QuantumCircuit(x_qr, y_qr, out_qr)\n",
        "\n",
        "    for i in range(m):\n",
        "        qc.cx(x_qr[i], y_qr[i])\n",
        "        qc.x(y_qr[i])\n",
        "\n",
        "    qc.mcx(y_qr[:], out_qr)\n",
        "\n",
        "    for i in reversed(range(m)):\n",
        "        qc.x(y_qr[i])\n",
        "        qc.cx(x_qr[i], y_qr[i])\n",
        "\n",
        "    return qc"
      ]
    },
    {
      "cell_type": "markdown",
      "metadata": {
        "id": "PTulv6V4PhWQ"
      },
      "source": [
        "Below, we show the circuit created by the Match operator if applied on strings of length $m=4$."
      ]
    },
    {
      "cell_type": "code",
      "execution_count": 13,
      "metadata": {
        "colab": {
          "base_uri": "https://localhost:8080/",
          "height": 310
        },
        "id": "r3W7-Beh0fSF",
        "outputId": "1c1c44e7-e6d4-4743-c101-791259c0dc19"
      },
      "outputs": [
        {
          "data": {
            "text/html": [
              "<pre style=\"word-wrap: normal;white-space: pre;background: #fff0;line-height: 1.1;font-family: &quot;Courier New&quot;,Courier,monospace\">                                                            \n",
              "x_0: ──■─────────────────────────────────────────────────■──\n",
              "       │                                                 │  \n",
              "x_1: ──┼────■───────────────────────────────────────■────┼──\n",
              "       │    │                                       │    │  \n",
              "x_2: ──┼────┼────■─────────────────────────────■────┼────┼──\n",
              "       │    │    │                             │    │    │  \n",
              "x_3: ──┼────┼────┼────■───────────────────■────┼────┼────┼──\n",
              "     ┌─┴─┐  │    │    │  ┌───┐     ┌───┐  │    │    │  ┌─┴─┐\n",
              "y_0: ┤ X ├──┼────┼────┼──┤ X ├──■──┤ X ├──┼────┼────┼──┤ X ├\n",
              "     └───┘┌─┴─┐  │    │  ├───┤  │  ├───┤  │    │  ┌─┴─┐└───┘\n",
              "y_1: ─────┤ X ├──┼────┼──┤ X ├──■──┤ X ├──┼────┼──┤ X ├─────\n",
              "          └───┘┌─┴─┐  │  ├───┤  │  ├───┤  │  ┌─┴─┐└───┘     \n",
              "y_2: ──────────┤ X ├──┼──┤ X ├──■──┤ X ├──┼──┤ X ├──────────\n",
              "               └───┘┌─┴─┐├───┤  │  ├───┤┌─┴─┐└───┘          \n",
              "y_3: ───────────────┤ X ├┤ X ├──■──┤ X ├┤ X ├───────────────\n",
              "                    └───┘└───┘┌─┴─┐└───┘└───┘               \n",
              "out: ─────────────────────────┤ X ├─────────────────────────\n",
              "                              └───┘                         </pre>"
            ],
            "text/plain": [
              "                                                            \n",
              "x_0: ──■─────────────────────────────────────────────────■──\n",
              "       │                                                 │  \n",
              "x_1: ──┼────■───────────────────────────────────────■────┼──\n",
              "       │    │                                       │    │  \n",
              "x_2: ──┼────┼────■─────────────────────────────■────┼────┼──\n",
              "       │    │    │                             │    │    │  \n",
              "x_3: ──┼────┼────┼────■───────────────────■────┼────┼────┼──\n",
              "     ┌─┴─┐  │    │    │  ┌───┐     ┌───┐  │    │    │  ┌─┴─┐\n",
              "y_0: ┤ X ├──┼────┼────┼──┤ X ├──■──┤ X ├──┼────┼────┼──┤ X ├\n",
              "     └───┘┌─┴─┐  │    │  ├───┤  │  ├───┤  │    │  ┌─┴─┐└───┘\n",
              "y_1: ─────┤ X ├──┼────┼──┤ X ├──■──┤ X ├──┼────┼──┤ X ├─────\n",
              "          └───┘┌─┴─┐  │  ├───┤  │  ├───┤  │  ┌─┴─┐└───┘     \n",
              "y_2: ──────────┤ X ├──┼──┤ X ├──■──┤ X ├──┼──┤ X ├──────────\n",
              "               └───┘┌─┴─┐├───┤  │  ├───┤┌─┴─┐└───┘          \n",
              "y_3: ───────────────┤ X ├┤ X ├──■──┤ X ├┤ X ├───────────────\n",
              "                    └───┘└───┘┌─┴─┐└───┘└───┘               \n",
              "out: ─────────────────────────┤ X ├─────────────────────────\n",
              "                              └───┘                         "
            ]
          },
          "execution_count": 13,
          "metadata": {},
          "output_type": "execute_result"
        }
      ],
      "source": [
        "pattern_length = 4\n",
        "match(pattern_length).draw(fold=255)"
      ]
    },
    {
      "cell_type": "markdown",
      "metadata": {
        "id": "f_ZsTeIS6WHd"
      },
      "source": [
        "In order to evaluate the functioning of the Match operator, we perform the comparison between a binary string $y = 1011$ and all the possible configurations of a $4$-bit binary string $x$ by applying the $H$ gate on each qubit of $|x\\rangle$. The Match operator is then applied to the quantum registers $|x\\rangle$ and $|y\\rangle$ and you can easily see that just one solution has the last qubit equals to $|1\\rangle$."
      ]
    },
    {
      "cell_type": "code",
      "execution_count": 14,
      "metadata": {
        "colab": {
          "base_uri": "https://localhost:8080/",
          "height": 518
        },
        "id": "MBdmdFf06x6_",
        "outputId": "71267ba5-65d6-4a7c-c64d-1f9bd6a0a36e"
      },
      "outputs": [
        {
          "data": {
            "image/png": "[encoded data removed]",
            "text/plain": [
              "<Figure size 700x500 with 1 Axes>"
            ]
          },
          "execution_count": 14,
          "metadata": {},
          "output_type": "execute_result"
        }
      ],
      "source": [
        "text = '1011'\n",
        "text_length = len(text)\n",
        "\n",
        "pattern_qr = QuantumRegister(text_length, 'pattern')\n",
        "text_qr = QuantumRegister(text_length, 'text')\n",
        "output_qr = QuantumRegister(1, 'output')\n",
        "output_cr = ClassicalRegister(text_length + 1, 'output_classic')\n",
        "circ = QuantumCircuit(pattern_qr, text_qr, output_qr, output_cr)\n",
        "\n",
        "circ.h(pattern_qr)\n",
        "circ.append(init_register(text), text_qr[:])\n",
        "circ.append(match(text_length), pattern_qr[:] + text_qr[:] + output_qr[:])\n",
        "circ.measure(pattern_qr, output_cr[:-1])\n",
        "circ.measure(output_qr, output_cr[-1])\n",
        "\n",
        "counts = run(circ, 100)\n",
        "plot_histogram(counts, title='Matching ' + text)"
      ]
    },
    {
      "cell_type": "markdown",
      "metadata": {
        "id": "dwfgA_1MQGxM"
      },
      "source": [
        "Following that, it is necessary to create a function that allows to transform the exact match operator into a quantum gate. It takes one parameter: the length $m$ of the two strings we want to compare."
      ]
    },
    {
      "cell_type": "code",
      "execution_count": 15,
      "metadata": {
        "id": "tRNt39YM7lB7"
      },
      "outputs": [],
      "source": [
        "def match_gate(m: int) -> Gate:\n",
        "    match_circuit = match(m)\n",
        "    return match_circuit.to_gate(label='MATCH')"
      ]
    },
    {
      "cell_type": "markdown",
      "metadata": {
        "id": "oXDwFjim7fL9"
      },
      "source": [
        "## The Exact String Matching Quantum Oracle\n",
        "\n",
        "Through the use of the parameterized rotation operator and the match operator, it is now possible to implement an ESM operator to search for an exact occurrence of a pattern $x$ within a text $y$. It checks if a pattern is present as a prefix in a text, where the text $y$ is rotated by a certain shift value $j$ which can be in superposition, allowing for flexible alignment of the pattern within the text.\n",
        "\n",
        "The shift value $s$ is encoded inside the quantum register $|j\\rangle$. Two other quantum registers $|x\\rangle$ and $|y\\rangle$ are initialized to contain the two strings $x$ and $y$. Then, the text string is rotated $s$ positions to the left. This way, the string $y[s..s+m-1]$ will have been placed as a prefix in the quantum register $|y\\rangle$. Using the MATCH operator, we compare the first $m$ qubits of $|x\\rangle$ with the first $m$ qubits of $|y\\rangle$ and the result of this comparison is recorded in $|out\\rangle$. The circuit is completed by uncompute, which sets the values of the registers to their initial state."
      ]
    },
    {
      "cell_type": "code",
      "execution_count": 16,
      "metadata": {
        "id": "pP3WT6G75rz2"
      },
      "outputs": [],
      "source": [
        "def esm(m: int, n: int) -> QuantumCircuit:\n",
        "    j_qr = QuantumRegister(int(log2(n)), 'j')\n",
        "    x_qr = QuantumRegister(m, 'x')\n",
        "    y_qr = QuantumRegister(n, 'y')\n",
        "    out = QuantumRegister(1, 'out')\n",
        "\n",
        "    qc = QuantumCircuit(\n",
        "        j_qr,\n",
        "        x_qr,\n",
        "        y_qr,\n",
        "        out\n",
        "    )\n",
        "\n",
        "    qc = qc.compose(parameterized_rot(n), j_qr[:] + y_qr[:])\n",
        "    qc = qc.compose(match_gate(m), x_qr[:] + y_qr[:m] + out[:])\n",
        "    qc = qc.compose(parameterized_rot(n).inverse(), j_qr[:] + y_qr[:])\n",
        "\n",
        "    return qc"
      ]
    },
    {
      "cell_type": "markdown",
      "metadata": {
        "id": "Y5G75pGdUoqP"
      },
      "source": [
        "Below is the Boolean Oracle constructed for a pattern of length $m=2$ and a text of length $n=4$."
      ]
    },
    {
      "cell_type": "code",
      "execution_count": 17,
      "metadata": {
        "colab": {
          "base_uri": "https://localhost:8080/",
          "height": 310
        },
        "id": "4urpbwuU5JSv",
        "outputId": "f31dd0c4-2811-4789-cb36-069ddccec812"
      },
      "outputs": [
        {
          "data": {
            "text/html": [
              "<pre style=\"word-wrap: normal;white-space: pre;background: #fff0;line-height: 1.1;font-family: &quot;Courier New&quot;,Courier,monospace\">                                                             \n",
              "j_0: ────■────────────────────────────────────────────■──────\n",
              "         │                                            │      \n",
              "j_1: ────┼─────────■─────────────────────■────────────┼──────\n",
              "         │         │     ┌────────┐      │            │      \n",
              "x_0: ────┼─────────┼─────┤0       ├──────┼────────────┼──────\n",
              "         │         │     │        │      │            │      \n",
              "x_1: ────┼─────────┼─────┤1       ├──────┼────────────┼──────\n",
              "     ┌───┴────┐┌───┴────┐│        │┌─────┴─────┐┌─────┴─────┐\n",
              "y_0: ┤0       ├┤0       ├┤2       ├┤0          ├┤0          ├\n",
              "     │        ││        ││        ││           ││           │\n",
              "y_1: ┤1       ├┤1       ├┤3 MATCH ├┤1          ├┤1          ├\n",
              "     │  ROT_1 ││  ROT_2 ││        ││  ROT_2_dg ││  ROT_1_dg │\n",
              "y_2: ┤2       ├┤2       ├┤        ├┤2          ├┤2          ├\n",
              "     │        ││        ││        ││           ││           │\n",
              "y_3: ┤3       ├┤3       ├┤        ├┤3          ├┤3          ├\n",
              "     └────────┘└────────┘│        │└───────────┘└───────────┘\n",
              "out: ────────────────────┤4       ├──────────────────────────\n",
              "                         └────────┘                          </pre>"
            ],
            "text/plain": [
              "                                                             \n",
              "j_0: ────■────────────────────────────────────────────■──────\n",
              "         │                                            │      \n",
              "j_1: ────┼─────────■─────────────────────■────────────┼──────\n",
              "         │         │     ┌────────┐      │            │      \n",
              "x_0: ────┼─────────┼─────┤0       ├──────┼────────────┼──────\n",
              "         │         │     │        │      │            │      \n",
              "x_1: ────┼─────────┼─────┤1       ├──────┼────────────┼──────\n",
              "     ┌───┴────┐┌───┴────┐│        │┌─────┴─────┐┌─────┴─────┐\n",
              "y_0: ┤0       ├┤0       ├┤2       ├┤0          ├┤0          ├\n",
              "     │        ││        ││        ││           ││           │\n",
              "y_1: ┤1       ├┤1       ├┤3 MATCH ├┤1          ├┤1          ├\n",
              "     │  ROT_1 ││  ROT_2 ││        ││  ROT_2_dg ││  ROT_1_dg │\n",
              "y_2: ┤2       ├┤2       ├┤        ├┤2          ├┤2          ├\n",
              "     │        ││        ││        ││           ││           │\n",
              "y_3: ┤3       ├┤3       ├┤        ├┤3          ├┤3          ├\n",
              "     └────────┘└────────┘│        │└───────────┘└───────────┘\n",
              "out: ────────────────────┤4       ├──────────────────────────\n",
              "                         └────────┘                          "
            ]
          },
          "execution_count": 17,
          "metadata": {},
          "output_type": "execute_result"
        }
      ],
      "source": [
        "pattern_length = 2\n",
        "text_length = 4\n",
        "esm(pattern_length, text_length).draw(fold=255)"
      ]
    },
    {
      "cell_type": "markdown",
      "metadata": {
        "id": "hVO0g4dYatch"
      },
      "source": [
        " Next, it is necessary to create a function that allows to transform the ESM operator into a Quantum Boolean Oracle."
      ]
    },
    {
      "cell_type": "code",
      "execution_count": 18,
      "metadata": {
        "id": "qLqdD_qE6Ayy"
      },
      "outputs": [],
      "source": [
        "def esm_oracle(m: int, n: int):\n",
        "    esm_circuit = esm(m, n)\n",
        "    return esm_circuit.to_gate(label='ESMO')"
      ]
    },
    {
      "cell_type": "markdown",
      "metadata": {
        "id": "A0upUud07qHf"
      },
      "source": [
        "## The Grover Search for a Fixed Number of Occurrences\n",
        "\n",
        "The function below constructs a quantum gate representing the diffusion (reflection) operation which is used to amplify the amplitude of the desired solution state. The function takes one parameter: the number of qubits on which the diffusion operation is to be applied."
      ]
    },
    {
      "cell_type": "code",
      "execution_count": 19,
      "metadata": {
        "id": "4pepNhhxLrIH"
      },
      "outputs": [],
      "source": [
        "def diffuser(n: int) -> Gate:\n",
        "    qc = QuantumCircuit(n)\n",
        "\n",
        "    qc.h(range(n))\n",
        "    qc.x(range(n))\n",
        "\n",
        "    qc.h(n-1)\n",
        "    qc.mcx(list(range(n-1)), n-1)\n",
        "    qc.h(n-1)\n",
        "\n",
        "    qc.x(range(n))\n",
        "    qc.h(range(n))\n",
        "\n",
        "    return qc.to_gate(label='DIFF')"
      ]
    },
    {
      "cell_type": "markdown",
      "metadata": {
        "id": "Y4sVPKDFlHrM"
      },
      "source": [
        "The following function implements Grover's algorithm for solving a boolean function problem, where the objective is to search for a specific number of solutions satisfying a specified boolean function.<br/>\n",
        "The function first calculates the number of iterations of Grover's algorithm required based on the number of solutions $t$ to search for and the length $n$ of $y$. It prepares the control qubits in superposition and applies the necessary quantum gates to initialize $|x\\rangle$ and $|y\\rangle$ with their respective values. It then iteratively applies the ESM oracle and the DIFFUSION gate. After that, the function **verifies** the solution found, by measuring the control qubits $|j\\rangle$ and applying the ESM gate to check for an exact match."
      ]
    },
    {
      "cell_type": "code",
      "execution_count": 20,
      "metadata": {
        "id": "g6rQieZc0fSF"
      },
      "outputs": [],
      "source": [
        "def grover(esmo: Gate, t: int, x: str, y: str) -> QuantumCircuit:\n",
        "    n = len(y)\n",
        "    m = len(x)\n",
        "    logn = int(log2(n))\n",
        "    num_iterations = int(pi/4 * sqrt(n/t))\n",
        "\n",
        "    j_qr = QuantumRegister(logn, 'j')\n",
        "    x_qr = QuantumRegister(m, 'x')\n",
        "    y_qr = QuantumRegister(n, 'y')\n",
        "    out_qr = QuantumRegister(2, 'out')\n",
        "    out_cr = ClassicalRegister(logn+1, 'c')\n",
        "    qc = QuantumCircuit(j_qr, x_qr, y_qr, out_qr, out_cr)\n",
        "\n",
        "    qc.h(j_qr)\n",
        "    qc.x(out_qr[0])\n",
        "    qc.h(out_qr[0])\n",
        "\n",
        "    qc = qc.compose(init_register(x), x_qr[:])\n",
        "    qc = qc.compose(init_register(y), y_qr[:])\n",
        "\n",
        "    for _ in range(num_iterations):\n",
        "        qc = qc.compose(esmo)\n",
        "        qc = qc.compose(diffuser(logn))\n",
        "\n",
        "    qc.measure(j_qr, out_cr[:-1])\n",
        "    qc = qc.compose(esmo, j_qr[:] + x_qr[:] + y_qr[:] + [out_qr[1]])\n",
        "    qc.measure(out_qr[1], out_cr[-1])\n",
        "\n",
        "    return qc"
      ]
    },
    {
      "cell_type": "markdown",
      "metadata": {
        "id": "-1zW_2IQRmi7"
      },
      "source": [
        "Below, we show the quantum circuit that is generated by the GroverESM function."
      ]
    },
    {
      "cell_type": "code",
      "execution_count": 21,
      "metadata": {
        "colab": {
          "base_uri": "https://localhost:8080/",
          "height": 525
        },
        "id": "5g_6-kvJ0fSF",
        "outputId": "2910c0eb-3fec-46bb-c013-b1ee070c635f"
      },
      "outputs": [
        {
          "data": {
            "text/html": [
              "<pre style=\"word-wrap: normal;white-space: pre;background: #fff0;line-height: 1.1;font-family: &quot;Courier New&quot;,Courier,monospace\">       ┌───┐     ┌────────┐┌───────┐┌────────┐┌───────┐┌─┐      ┌────────┐   \n",
              "  j_0: ┤ H ├─────┤0       ├┤0      ├┤0       ├┤0      ├┤M├──────┤0       ├───\n",
              "       ├───┤     │        ││       ││        ││       │└╥┘┌─┐   │        │   \n",
              "  j_1: ┤ H ├─────┤1       ├┤1 DIFF ├┤1       ├┤1 DIFF ├─╫─┤M├───┤1       ├───\n",
              "       ├───┤     │        ││       ││        ││       │ ║ └╥┘┌─┐│        │   \n",
              "  j_2: ┤ H ├─────┤2       ├┤2      ├┤2       ├┤2      ├─╫──╫─┤M├┤2       ├───\n",
              "       ├───┤     │        │└───────┘│        │└───────┘ ║  ║ └╥┘│        │   \n",
              "  x_0: ┤ X ├─────┤3       ├─────────┤3       ├──────────╫──╫──╫─┤3       ├───\n",
              "       ├───┤     │        │         │        │          ║  ║  ║ │        │   \n",
              "  x_1: ┤ X ├─────┤4       ├─────────┤4       ├──────────╫──╫──╫─┤4       ├───\n",
              "       ├───┤     │        │         │        │          ║  ║  ║ │        │   \n",
              "  y_0: ┤ X ├─────┤5       ├─────────┤5       ├──────────╫──╫──╫─┤5       ├───\n",
              "       └───┘     │        │         │        │          ║  ║  ║ │        │   \n",
              "  y_1: ──────────┤6       ├─────────┤6       ├──────────╫──╫──╫─┤6       ├───\n",
              "       ┌───┐     │   ESMO │         │   ESMO │          ║  ║  ║ │        │   \n",
              "  y_2: ┤ X ├─────┤7       ├─────────┤7       ├──────────╫──╫──╫─┤7  ESMO ├───\n",
              "       └───┘     │        │         │        │          ║  ║  ║ │        │   \n",
              "  y_3: ──────────┤8       ├─────────┤8       ├──────────╫──╫──╫─┤8       ├───\n",
              "       ┌───┐     │        │         │        │          ║  ║  ║ │        │   \n",
              "  y_4: ┤ X ├─────┤9       ├─────────┤9       ├──────────╫──╫──╫─┤9       ├───\n",
              "       ├───┤     │        │         │        │          ║  ║  ║ │        │   \n",
              "  y_5: ┤ X ├─────┤10      ├─────────┤10      ├──────────╫──╫──╫─┤10      ├───\n",
              "       └───┘     │        │         │        │          ║  ║  ║ │        │   \n",
              "  y_6: ──────────┤11      ├─────────┤11      ├──────────╫──╫──╫─┤11      ├───\n",
              "                 │        │         │        │          ║  ║  ║ │        │   \n",
              "  y_7: ──────────┤12      ├─────────┤12      ├──────────╫──╫──╫─┤12      ├───\n",
              "       ┌───┐┌───┐│        │         │        │          ║  ║  ║ │        │   \n",
              "out_0: ┤ X ├┤ H ├┤13      ├─────────┤13      ├──────────╫──╫──╫─┤        ├───\n",
              "       └───┘└───┘└────────┘         └────────┘          ║  ║  ║ │        │┌─┐\n",
              "out_1: ─────────────────────────────────────────────────╫──╫──╫─┤13      ├┤M├\n",
              "                                                        ║  ║  ║ └────────┘└╥┘\n",
              "  c: 4/═════════════════════════════════════════════════╩══╩══╩════════════╩═\n",
              "                                                        0  1  2            3 </pre>"
            ],
            "text/plain": [
              "       ┌───┐     ┌────────┐┌───────┐┌────────┐┌───────┐┌─┐      ┌────────┐   \n",
              "  j_0: ┤ H ├─────┤0       ├┤0      ├┤0       ├┤0      ├┤M├──────┤0       ├───\n",
              "       ├───┤     │        ││       ││        ││       │└╥┘┌─┐   │        │   \n",
              "  j_1: ┤ H ├─────┤1       ├┤1 DIFF ├┤1       ├┤1 DIFF ├─╫─┤M├───┤1       ├───\n",
              "       ├───┤     │        ││       ││        ││       │ ║ └╥┘┌─┐│        │   \n",
              "  j_2: ┤ H ├─────┤2       ├┤2      ├┤2       ├┤2      ├─╫──╫─┤M├┤2       ├───\n",
              "       ├───┤     │        │└───────┘│        │└───────┘ ║  ║ └╥┘│        │   \n",
              "  x_0: ┤ X ├─────┤3       ├─────────┤3       ├──────────╫──╫──╫─┤3       ├───\n",
              "       ├───┤     │        │         │        │          ║  ║  ║ │        │   \n",
              "  x_1: ┤ X ├─────┤4       ├─────────┤4       ├──────────╫──╫──╫─┤4       ├───\n",
              "       ├───┤     │        │         │        │          ║  ║  ║ │        │   \n",
              "  y_0: ┤ X ├─────┤5       ├─────────┤5       ├──────────╫──╫──╫─┤5       ├───\n",
              "       └───┘     │        │         │        │          ║  ║  ║ │        │   \n",
              "  y_1: ──────────┤6       ├─────────┤6       ├──────────╫──╫──╫─┤6       ├───\n",
              "       ┌───┐     │   ESMO │         │   ESMO │          ║  ║  ║ │        │   \n",
              "  y_2: ┤ X ├─────┤7       ├─────────┤7       ├──────────╫──╫──╫─┤7  ESMO ├───\n",
              "       └───┘     │        │         │        │          ║  ║  ║ │        │   \n",
              "  y_3: ──────────┤8       ├─────────┤8       ├──────────╫──╫──╫─┤8       ├───\n",
              "       ┌───┐     │        │         │        │          ║  ║  ║ │        │   \n",
              "  y_4: ┤ X ├─────┤9       ├─────────┤9       ├──────────╫──╫──╫─┤9       ├───\n",
              "       ├───┤     │        │         │        │          ║  ║  ║ │        │   \n",
              "  y_5: ┤ X ├─────┤10      ├─────────┤10      ├──────────╫──╫──╫─┤10      ├───\n",
              "       └───┘     │        │         │        │          ║  ║  ║ │        │   \n",
              "  y_6: ──────────┤11      ├─────────┤11      ├──────────╫──╫──╫─┤11      ├───\n",
              "                 │        │         │        │          ║  ║  ║ │        │   \n",
              "  y_7: ──────────┤12      ├─────────┤12      ├──────────╫──╫──╫─┤12      ├───\n",
              "       ┌───┐┌───┐│        │         │        │          ║  ║  ║ │        │   \n",
              "out_0: ┤ X ├┤ H ├┤13      ├─────────┤13      ├──────────╫──╫──╫─┤        ├───\n",
              "       └───┘└───┘└────────┘         └────────┘          ║  ║  ║ │        │┌─┐\n",
              "out_1: ─────────────────────────────────────────────────╫──╫──╫─┤13      ├┤M├\n",
              "                                                        ║  ║  ║ └────────┘└╥┘\n",
              "  c: 4/═════════════════════════════════════════════════╩══╩══╩════════════╩═\n",
              "                                                        0  1  2            3 "
            ]
          },
          "execution_count": 21,
          "metadata": {},
          "output_type": "execute_result"
        }
      ],
      "source": [
        "x = '11'\n",
        "y = '10101100'\n",
        "esmo = esm_oracle(len(x), len(y))\n",
        "grover(esmo, 1, x, y).draw(fold=255)"
      ]
    },
    {
      "cell_type": "markdown",
      "metadata": {
        "id": "Jit26aRHSYg2"
      },
      "source": [
        "Here is what $3$ different executions of the generated quantum circuit show."
      ]
    },
    {
      "cell_type": "code",
      "execution_count": 22,
      "metadata": {
        "colab": {
          "base_uri": "https://localhost:8080/",
          "height": 506
        },
        "id": "9Npv9a0JhfyB",
        "outputId": "77b74558-46b9-4c82-b6dc-b05d42e69691"
      },
      "outputs": [
        {
          "data": {
            "image/png": "[encoded data removed]",
            "text/plain": [
              "<Figure size 700x500 with 1 Axes>"
            ]
          },
          "execution_count": 22,
          "metadata": {},
          "output_type": "execute_result"
        }
      ],
      "source": [
        "x = '00'\n",
        "y = '01010101'\n",
        "esmo = esm_oracle(len(x), len(y))\n",
        "counts = run(grover(esmo, 1, x, y), 100)\n",
        "plot_histogram(counts, title=f'Search for {x} in {y} - 0 occurrence(s)')"
      ]
    },
    {
      "cell_type": "code",
      "execution_count": 23,
      "metadata": {
        "colab": {
          "base_uri": "https://localhost:8080/",
          "height": 506
        },
        "id": "M8fU-7E4FqeE",
        "outputId": "8acd9b40-f2c8-4637-ba78-58cf15049067"
      },
      "outputs": [
        {
          "data": {
            "image/png": "[encoded data removed]",
            "text/plain": [
              "<Figure size 700x500 with 1 Axes>"
            ]
          },
          "execution_count": 23,
          "metadata": {},
          "output_type": "execute_result"
        }
      ],
      "source": [
        "x = '00'\n",
        "y = '11010011'\n",
        "esmo = esm_oracle(len(x), len(y))\n",
        "counts = run(grover(esmo, 1, x, y), 100)\n",
        "plot_histogram(counts, title=f'Search for {x} in {y} - 1 occurrence(s)')"
      ]
    },
    {
      "cell_type": "code",
      "execution_count": 24,
      "metadata": {
        "colab": {
          "base_uri": "https://localhost:8080/",
          "height": 506
        },
        "id": "vaM3mpxEbDvt",
        "outputId": "de3b3716-eb89-48b1-a595-d546081e245b"
      },
      "outputs": [
        {
          "data": {
            "image/png": "[encoded data removed]",
            "text/plain": [
              "<Figure size 700x500 with 1 Axes>"
            ]
          },
          "execution_count": 24,
          "metadata": {},
          "output_type": "execute_result"
        }
      ],
      "source": [
        "x = '00'\n",
        "y = '00111001'\n",
        "esmo = esm_oracle(len(x), len(y))\n",
        "counts = run(grover(esmo, 2, x, y), 100)\n",
        "plot_histogram(counts, title=f'Search for {x} in {y} - 2 occurrence(s)')"
      ]
    },
    {
      "cell_type": "markdown",
      "metadata": {
        "id": "LBytEAHP70qe"
      },
      "source": [
        "## Solving the General Case\n",
        "\n",
        "In the general case, the value $t$ of occurrences is not known a priori and can only be obtained through a complex procedure based on the Quantum Phase Estimation. Since this algorithm works even if a correct $t^*$ estimate of $t$ is known, up to a small multiplicative error $1+\\varepsilon$, several approximate counting solutions have also been proposed. An effective practical solution for this problem has been recently given by **Venkateswaran** and **O'Donnell**. It consists in adaptively estimating $t$ by trying all the possible values in the range $[1.1^i]$ for $1\\leq i \\leq \\log_{1.1}(N/2)$, until a solution is found or, alternatively, responding negatively if no solutions are found. This approach requires a  total number of Grover iterations which is still $\\tilde{O}(\\sqrt{n})$."
      ]
    },
    {
      "cell_type": "code",
      "execution_count": 25,
      "metadata": {
        "id": "jvNCnfk90fSG"
      },
      "outputs": [],
      "source": [
        "def search(x: str, y: str) -> int:\n",
        "    m = len(x)\n",
        "    n = len(y)\n",
        "    esmo = esm_oracle(m, n)\n",
        "\n",
        "    for t in range(1, int(n/2) + 1):\n",
        "\n",
        "        print('Trying with t =', t)\n",
        "        results = run(grover(esmo, t, x, y), 1)\n",
        "        results = list(results.keys())[0]\n",
        "        outcome = int(results[0])\n",
        "        position = int(results[1:], 2)\n",
        "\n",
        "        if outcome: return position\n",
        "        else: print('Pattern not found in position', position)\n",
        "\n",
        "    return -1"
      ]
    },
    {
      "cell_type": "markdown",
      "metadata": {
        "id": "TeDIDNcrU2I7"
      },
      "source": [
        "<h2><b>Now come on, let's try it!</b></h2>\n",
        "Just remember that:\n",
        "\n",
        "- $x$ is the pattern of length $m$.\n",
        "- $y$ is the text of length $n \\geq m$.\n",
        "- Both $x$ and $y$ must be binary strings."
      ]
    },
    {
      "cell_type": "code",
      "execution_count": null,
      "metadata": {
        "colab": {
          "base_uri": "https://localhost:8080/"
        },
        "id": "0e48A6OjeOXd",
        "outputId": "0812f83b-ae30-41b5-f0f1-7f240c6f53bd"
      },
      "outputs": [
        {
          "name": "stdout",
          "output_type": "stream",
          "text": [
            "Enter the value of x: 00\n",
            "Enter the value of y: 10100101\n",
            "\n",
            "Trying with t = 1\n",
            "Pattern occurrence found in position 3\n"
          ]
        }
      ],
      "source": [
        "x = input('Enter the value of x: ')\n",
        "y = input('Enter the value of y: ')\n",
        "\n",
        "if len(x) > len(y):\n",
        "    raise ValueError('The length of x must be shorter than the length of y.')\n",
        "\n",
        "if not all(c in '01' for c in x):\n",
        "    raise ValueError('The pattern must be a binary string.')\n",
        "\n",
        "if not all(c in '01' for c in y):\n",
        "    raise ValueError('The text must be a binary string.')\n",
        "\n",
        "print('')\n",
        "position = search(x, y)\n",
        "\n",
        "if position >= 0: print('Pattern occurrence found in position', str(position))\n",
        "else: print('Pattern occurrence not found.')"
      ]
    }
  ],
  "metadata": {
    "colab": {
      "provenance": []
    },
    "kernelspec": {
      "display_name": "Python 3",
      "name": "python3"
    },
    "language_info": {
      "codemirror_mode": {
        "name": "ipython",
        "version": 3
      },
      "file_extension": ".py",
      "mimetype": "text/x-python",
      "name": "python",
      "nbconvert_exporter": "python",
      "pygments_lexer": "ipython3",
      "version": "3.11.6"
    }
  },
  "nbformat": 4,
  "nbformat_minor": 0
}
